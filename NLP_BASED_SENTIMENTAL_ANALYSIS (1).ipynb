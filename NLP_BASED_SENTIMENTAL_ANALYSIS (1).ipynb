{
  "nbformat": 4,
  "nbformat_minor": 0,
  "metadata": {
    "colab": {
      "name": "NLP_BASED_SENTIMENTAL_ANALYSIS.ipynb",
      "provenance": [],
      "collapsed_sections": []
    },
    "kernelspec": {
      "name": "python3",
      "display_name": "Python 3"
    },
    "language_info": {
      "name": "python"
    }
  },
  "cells": [
    {
      "cell_type": "code",
      "execution_count": 82,
      "metadata": {
        "id": "DD6VIBtS1MkW"
      },
      "outputs": [],
      "source": [
        "#Importing Libraries\n",
        "import pandas as pd\n",
        "import numpy as np\n",
        "from textblob import TextBlob\n",
        "from wordcloud import WordCloud\n",
        "import re\n",
        "import matplotlib.pyplot as plt\n",
        "plt.style.use(\"fivethirtyeight\")"
      ]
    },
    {
      "cell_type": "code",
      "source": [
        "raw_text=open(\"tweet.txt\")"
      ],
      "metadata": {
        "id": "-rfJCED6LWw1"
      },
      "execution_count": 83,
      "outputs": []
    },
    {
      "cell_type": "code",
      "source": [
        "clean_text_1=[]\n",
        "def to_lower_case(data):\n",
        "   for words in data:\n",
        "     clean_text_1.append(str.lower(words))"
      ],
      "metadata": {
        "id": "YUXWXtIGLGi_"
      },
      "execution_count": 84,
      "outputs": []
    },
    {
      "cell_type": "code",
      "source": [
        "to_lower_case(raw_text)"
      ],
      "metadata": {
        "id": "piCZqHupLyGL"
      },
      "execution_count": 85,
      "outputs": []
    },
    {
      "cell_type": "code",
      "source": [
        "clean_text_1"
      ],
      "metadata": {
        "colab": {
          "base_uri": "https://localhost:8080/"
        },
        "id": "4mmdPqCPMEIn",
        "outputId": "2bf57fab-c92c-4d49-8ac4-95ce3e3e6296"
      },
      "execution_count": 86,
      "outputs": [
        {
          "output_type": "execute_result",
          "data": {
            "text/plain": [
              "['dnkwlq  qqqqqqqqqq    .egr qqqqqqqqqqqqqqqqqqqqqqqqqqqqqqqqqqqqqqqqqqqqqqqkndwhqhuqhuhui\\n',\n",
              " 'shwduhuhhhhhwquhi  huuhudhuwhduwh   udhwuqhduwhdiq\\n',\n",
              " 'dhwgdugwg   dqgwigdgugu   guqwgudgwqugduwq  diugwiudgiu\\n',\n",
              " 'dhwgygygyyyyyyyyyyyyyyyyyyy  yyyyyyyyyyyyy  yyyyyyyyyyyyyyyyyyyygw\\n',\n",
              " 'dwhqiiiiiiiii  iiiiiiiiiiiiii   iiiiiiiiiiiiiiiiiiiiiiiiiiiiii']"
            ]
          },
          "metadata": {},
          "execution_count": 86
        }
      ]
    },
    {
      "cell_type": "code",
      "source": [
        "clean_text_2=[]\n",
        "from nltk.tokenize import sent_tokenize,word_tokenize\n",
        "import nltk\n",
        "nltk.download('punkt')"
      ],
      "metadata": {
        "colab": {
          "base_uri": "https://localhost:8080/"
        },
        "id": "gmqgp6irO9BZ",
        "outputId": "900a6d85-c3d9-4008-f827-02c0773edca8"
      },
      "execution_count": 87,
      "outputs": [
        {
          "output_type": "stream",
          "name": "stdout",
          "text": [
            "[nltk_data] Downloading package punkt to /root/nltk_data...\n",
            "[nltk_data]   Package punkt is already up-to-date!\n"
          ]
        },
        {
          "output_type": "execute_result",
          "data": {
            "text/plain": [
              "True"
            ]
          },
          "metadata": {},
          "execution_count": 87
        }
      ]
    },
    {
      "cell_type": "markdown",
      "source": [
        "#**Tokenize**"
      ],
      "metadata": {
        "id": "cIccj1UrQaEN"
      }
    },
    {
      "cell_type": "code",
      "source": [
        "sent_tok=[]\n",
        "for sent in clean_text_1:\n",
        "  sent=sent_tokenize(sent)\n",
        "  sent_tok.append(sent)"
      ],
      "metadata": {
        "id": "DUz1tOzTO8Bd"
      },
      "execution_count": 88,
      "outputs": []
    },
    {
      "cell_type": "code",
      "source": [
        "sent_tok"
      ],
      "metadata": {
        "colab": {
          "base_uri": "https://localhost:8080/"
        },
        "id": "dkVxdNOqQQa-",
        "outputId": "fdc40475-4830-4580-8faf-8b93ed96e8bc"
      },
      "execution_count": 89,
      "outputs": [
        {
          "output_type": "execute_result",
          "data": {
            "text/plain": [
              "[['dnkwlq  qqqqqqqqqq    .egr qqqqqqqqqqqqqqqqqqqqqqqqqqqqqqqqqqqqqqqqqqqqqqqkndwhqhuqhuhui'],\n",
              " ['shwduhuhhhhhwquhi  huuhudhuwhduwh   udhwuqhduwhdiq'],\n",
              " ['dhwgdugwg   dqgwigdgugu   guqwgudgwqugduwq  diugwiudgiu'],\n",
              " ['dhwgygygyyyyyyyyyyyyyyyyyyy  yyyyyyyyyyyyy  yyyyyyyyyyyyyyyyyyyygw'],\n",
              " ['dwhqiiiiiiiii  iiiiiiiiiiiiii   iiiiiiiiiiiiiiiiiiiiiiiiiiiiii']]"
            ]
          },
          "metadata": {},
          "execution_count": 89
        }
      ]
    },
    {
      "cell_type": "code",
      "source": [
        "clean_text_2=[word_tokenize(i) for i in clean_text_1]"
      ],
      "metadata": {
        "id": "vYa5BVWqQ3Rs"
      },
      "execution_count": 90,
      "outputs": []
    },
    {
      "cell_type": "code",
      "source": [
        "clean_text_2"
      ],
      "metadata": {
        "colab": {
          "base_uri": "https://localhost:8080/"
        },
        "id": "oKKPxKYORYTv",
        "outputId": "d147452b-7771-423a-c661-2a2c6bf9952e"
      },
      "execution_count": 91,
      "outputs": [
        {
          "output_type": "execute_result",
          "data": {
            "text/plain": [
              "[['dnkwlq',\n",
              "  'qqqqqqqqqq',\n",
              "  '.egr',\n",
              "  'qqqqqqqqqqqqqqqqqqqqqqqqqqqqqqqqqqqqqqqqqqqqqqqkndwhqhuqhuhui'],\n",
              " ['shwduhuhhhhhwquhi', 'huuhudhuwhduwh', 'udhwuqhduwhdiq'],\n",
              " ['dhwgdugwg', 'dqgwigdgugu', 'guqwgudgwqugduwq', 'diugwiudgiu'],\n",
              " ['dhwgygygyyyyyyyyyyyyyyyyyyy', 'yyyyyyyyyyyyy', 'yyyyyyyyyyyyyyyyyyyygw'],\n",
              " ['dwhqiiiiiiiii', 'iiiiiiiiiiiiii', 'iiiiiiiiiiiiiiiiiiiiiiiiiiiiii']]"
            ]
          },
          "metadata": {},
          "execution_count": 91
        }
      ]
    },
    {
      "cell_type": "code",
      "source": [
        "import re\n",
        "clean_text_3=[]\n",
        "for words in clean_text_2:\n",
        "  clean=[]\n",
        "  for w in words:\n",
        "    res=re.sub(r'[^\\w\\s]',\"\",w)\n",
        "    if(res!=\"\"):\n",
        "      clean.append(res)\n",
        "    clean_text_3.append(clean)\n"
      ],
      "metadata": {
        "id": "Bxiqdz_CTy5n"
      },
      "execution_count": 92,
      "outputs": []
    },
    {
      "cell_type": "code",
      "source": [
        "clean_text_3"
      ],
      "metadata": {
        "id": "VwLv0NPXU8pX"
      },
      "execution_count": null,
      "outputs": []
    },
    {
      "cell_type": "code",
      "source": [
        "import nltk\n",
        "nltk.download(\"stopwords\")"
      ],
      "metadata": {
        "colab": {
          "base_uri": "https://localhost:8080/"
        },
        "id": "LI4vcrzaV2HC",
        "outputId": "bc10a70f-a8a8-456f-cde3-99ffa381d142"
      },
      "execution_count": 94,
      "outputs": [
        {
          "output_type": "stream",
          "name": "stdout",
          "text": [
            "[nltk_data] Downloading package stopwords to /root/nltk_data...\n",
            "[nltk_data]   Unzipping corpora/stopwords.zip.\n"
          ]
        },
        {
          "output_type": "execute_result",
          "data": {
            "text/plain": [
              "True"
            ]
          },
          "metadata": {},
          "execution_count": 94
        }
      ]
    },
    {
      "cell_type": "code",
      "source": [
        "from nltk.corpus import stopwords "
      ],
      "metadata": {
        "id": "QZC23bogWsDD"
      },
      "execution_count": 95,
      "outputs": []
    },
    {
      "cell_type": "code",
      "source": [
        "clean_text_4=[]\n",
        "for word in clean_text_3:\n",
        "  w=[]\n",
        "  for word in word:\n",
        "    if not word in stopwords.words('english'):\n",
        "      w.append(word)\n",
        "    clean_text_4.append(w)"
      ],
      "metadata": {
        "id": "SD3qkzp9W0Nj"
      },
      "execution_count": 96,
      "outputs": []
    },
    {
      "cell_type": "code",
      "source": [
        "clean_text_4"
      ],
      "metadata": {
        "id": "ZQ2TXguJX1iq"
      },
      "execution_count": null,
      "outputs": []
    },
    {
      "cell_type": "markdown",
      "source": [
        "#**Stemming**"
      ],
      "metadata": {
        "id": "Gwzu-NpUqUp5"
      }
    },
    {
      "cell_type": "code",
      "source": [
        "from nltk.stem .porter import PorterStemmer"
      ],
      "metadata": {
        "id": "gwxVb8G9e2N5"
      },
      "execution_count": 98,
      "outputs": []
    },
    {
      "cell_type": "code",
      "source": [
        "port=PorterStemmer()"
      ],
      "metadata": {
        "id": "FTKwB4_arxKY"
      },
      "execution_count": null,
      "outputs": []
    },
    {
      "cell_type": "code",
      "source": [
        "clean_text_5=[]\n",
        "for words in clean_text_4:\n",
        "  w=[]\n",
        "  for word in words:\n",
        "    w.append(word)\n",
        "  clean_text_5.append(w)\n"
      ],
      "metadata": {
        "id": "fnOWQx1KpRZ7"
      },
      "execution_count": 99,
      "outputs": []
    },
    {
      "cell_type": "code",
      "source": [
        "clean_text_5[0]"
      ],
      "metadata": {
        "colab": {
          "base_uri": "https://localhost:8080/"
        },
        "id": "WQe1ozweq0Sx",
        "outputId": "2cc0c91e-87ef-494b-f3df-316db388285e"
      },
      "execution_count": 130,
      "outputs": [
        {
          "output_type": "execute_result",
          "data": {
            "text/plain": [
              "['dnkwlq',\n",
              " 'qqqqqqqqqq',\n",
              " 'egr',\n",
              " 'qqqqqqqqqqqqqqqqqqqqqqqqqqqqqqqqqqqqqqqqqqqqqqqkndwhqhuqhuhui']"
            ]
          },
          "metadata": {},
          "execution_count": 130
        }
      ]
    },
    {
      "cell_type": "code",
      "source": [
        "from nltk.stem.wordnet import WordNetLemmatizer"
      ],
      "metadata": {
        "id": "zdy5hAucFaav"
      },
      "execution_count": 102,
      "outputs": []
    },
    {
      "cell_type": "code",
      "source": [
        "wnet=WordNetLemmatizer()"
      ],
      "metadata": {
        "id": "BC4pXtc_FnZS"
      },
      "execution_count": 103,
      "outputs": []
    },
    {
      "cell_type": "code",
      "source": [
        "import nltk\n",
        "nltk.download('wordnet')"
      ],
      "metadata": {
        "colab": {
          "base_uri": "https://localhost:8080/"
        },
        "id": "4-mpYThTImrH",
        "outputId": "ed0df089-8173-499c-dc7e-e31ba0fbb650"
      },
      "execution_count": 104,
      "outputs": [
        {
          "output_type": "stream",
          "name": "stdout",
          "text": [
            "[nltk_data] Downloading package wordnet to /root/nltk_data...\n",
            "[nltk_data]   Unzipping corpora/wordnet.zip.\n"
          ]
        },
        {
          "output_type": "execute_result",
          "data": {
            "text/plain": [
              "True"
            ]
          },
          "metadata": {},
          "execution_count": 104
        }
      ]
    },
    {
      "cell_type": "code",
      "source": [
        "lem=[]\n",
        "for words in clean_text_4:\n",
        " w=[]\n",
        " for words in words:\n",
        "  w.append(wnet.lemmatize(word))\n",
        " lem.append(w)"
      ],
      "metadata": {
        "id": "be70oi-8Gxmv"
      },
      "execution_count": 106,
      "outputs": []
    },
    {
      "cell_type": "code",
      "source": [
        "lem"
      ],
      "metadata": {
        "colab": {
          "base_uri": "https://localhost:8080/"
        },
        "id": "Aaq984behv0U",
        "outputId": "dc4f47e7-fe4a-4b1c-bbfd-18d57387b534"
      },
      "execution_count": 120,
      "outputs": [
        {
          "output_type": "execute_result",
          "data": {
            "text/plain": [
              "[['iiiiiiiiiiiiiiiiiiiiiiiiiiiiii',\n",
              "  'iiiiiiiiiiiiiiiiiiiiiiiiiiiiii',\n",
              "  'iiiiiiiiiiiiiiiiiiiiiiiiiiiiii',\n",
              "  'iiiiiiiiiiiiiiiiiiiiiiiiiiiiii'],\n",
              " ['iiiiiiiiiiiiiiiiiiiiiiiiiiiiii',\n",
              "  'iiiiiiiiiiiiiiiiiiiiiiiiiiiiii',\n",
              "  'iiiiiiiiiiiiiiiiiiiiiiiiiiiiii',\n",
              "  'iiiiiiiiiiiiiiiiiiiiiiiiiiiiii'],\n",
              " ['iiiiiiiiiiiiiiiiiiiiiiiiiiiiii',\n",
              "  'iiiiiiiiiiiiiiiiiiiiiiiiiiiiii',\n",
              "  'iiiiiiiiiiiiiiiiiiiiiiiiiiiiii',\n",
              "  'iiiiiiiiiiiiiiiiiiiiiiiiiiiiii'],\n",
              " ['iiiiiiiiiiiiiiiiiiiiiiiiiiiiii',\n",
              "  'iiiiiiiiiiiiiiiiiiiiiiiiiiiiii',\n",
              "  'iiiiiiiiiiiiiiiiiiiiiiiiiiiiii',\n",
              "  'iiiiiiiiiiiiiiiiiiiiiiiiiiiiii'],\n",
              " ['iiiiiiiiiiiiiiiiiiiiiiiiiiiiii',\n",
              "  'iiiiiiiiiiiiiiiiiiiiiiiiiiiiii',\n",
              "  'iiiiiiiiiiiiiiiiiiiiiiiiiiiiii',\n",
              "  'iiiiiiiiiiiiiiiiiiiiiiiiiiiiii'],\n",
              " ['iiiiiiiiiiiiiiiiiiiiiiiiiiiiii',\n",
              "  'iiiiiiiiiiiiiiiiiiiiiiiiiiiiii',\n",
              "  'iiiiiiiiiiiiiiiiiiiiiiiiiiiiii',\n",
              "  'iiiiiiiiiiiiiiiiiiiiiiiiiiiiii'],\n",
              " ['iiiiiiiiiiiiiiiiiiiiiiiiiiiiii',\n",
              "  'iiiiiiiiiiiiiiiiiiiiiiiiiiiiii',\n",
              "  'iiiiiiiiiiiiiiiiiiiiiiiiiiiiii',\n",
              "  'iiiiiiiiiiiiiiiiiiiiiiiiiiiiii'],\n",
              " ['iiiiiiiiiiiiiiiiiiiiiiiiiiiiii',\n",
              "  'iiiiiiiiiiiiiiiiiiiiiiiiiiiiii',\n",
              "  'iiiiiiiiiiiiiiiiiiiiiiiiiiiiii',\n",
              "  'iiiiiiiiiiiiiiiiiiiiiiiiiiiiii'],\n",
              " ['iiiiiiiiiiiiiiiiiiiiiiiiiiiiii',\n",
              "  'iiiiiiiiiiiiiiiiiiiiiiiiiiiiii',\n",
              "  'iiiiiiiiiiiiiiiiiiiiiiiiiiiiii',\n",
              "  'iiiiiiiiiiiiiiiiiiiiiiiiiiiiii'],\n",
              " ['iiiiiiiiiiiiiiiiiiiiiiiiiiiiii',\n",
              "  'iiiiiiiiiiiiiiiiiiiiiiiiiiiiii',\n",
              "  'iiiiiiiiiiiiiiiiiiiiiiiiiiiiii',\n",
              "  'iiiiiiiiiiiiiiiiiiiiiiiiiiiiii'],\n",
              " ['iiiiiiiiiiiiiiiiiiiiiiiiiiiiii',\n",
              "  'iiiiiiiiiiiiiiiiiiiiiiiiiiiiii',\n",
              "  'iiiiiiiiiiiiiiiiiiiiiiiiiiiiii',\n",
              "  'iiiiiiiiiiiiiiiiiiiiiiiiiiiiii'],\n",
              " ['iiiiiiiiiiiiiiiiiiiiiiiiiiiiii',\n",
              "  'iiiiiiiiiiiiiiiiiiiiiiiiiiiiii',\n",
              "  'iiiiiiiiiiiiiiiiiiiiiiiiiiiiii',\n",
              "  'iiiiiiiiiiiiiiiiiiiiiiiiiiiiii'],\n",
              " ['iiiiiiiiiiiiiiiiiiiiiiiiiiiiii',\n",
              "  'iiiiiiiiiiiiiiiiiiiiiiiiiiiiii',\n",
              "  'iiiiiiiiiiiiiiiiiiiiiiiiiiiiii',\n",
              "  'iiiiiiiiiiiiiiiiiiiiiiiiiiiiii'],\n",
              " ['iiiiiiiiiiiiiiiiiiiiiiiiiiiiii',\n",
              "  'iiiiiiiiiiiiiiiiiiiiiiiiiiiiii',\n",
              "  'iiiiiiiiiiiiiiiiiiiiiiiiiiiiii',\n",
              "  'iiiiiiiiiiiiiiiiiiiiiiiiiiiiii'],\n",
              " ['iiiiiiiiiiiiiiiiiiiiiiiiiiiiii',\n",
              "  'iiiiiiiiiiiiiiiiiiiiiiiiiiiiii',\n",
              "  'iiiiiiiiiiiiiiiiiiiiiiiiiiiiii',\n",
              "  'iiiiiiiiiiiiiiiiiiiiiiiiiiiiii'],\n",
              " ['iiiiiiiiiiiiiiiiiiiiiiiiiiiiii',\n",
              "  'iiiiiiiiiiiiiiiiiiiiiiiiiiiiii',\n",
              "  'iiiiiiiiiiiiiiiiiiiiiiiiiiiiii',\n",
              "  'iiiiiiiiiiiiiiiiiiiiiiiiiiiiii'],\n",
              " ['iiiiiiiiiiiiiiiiiiiiiiiiiiiiii',\n",
              "  'iiiiiiiiiiiiiiiiiiiiiiiiiiiiii',\n",
              "  'iiiiiiiiiiiiiiiiiiiiiiiiiiiiii'],\n",
              " ['iiiiiiiiiiiiiiiiiiiiiiiiiiiiii',\n",
              "  'iiiiiiiiiiiiiiiiiiiiiiiiiiiiii',\n",
              "  'iiiiiiiiiiiiiiiiiiiiiiiiiiiiii'],\n",
              " ['iiiiiiiiiiiiiiiiiiiiiiiiiiiiii',\n",
              "  'iiiiiiiiiiiiiiiiiiiiiiiiiiiiii',\n",
              "  'iiiiiiiiiiiiiiiiiiiiiiiiiiiiii'],\n",
              " ['iiiiiiiiiiiiiiiiiiiiiiiiiiiiii',\n",
              "  'iiiiiiiiiiiiiiiiiiiiiiiiiiiiii',\n",
              "  'iiiiiiiiiiiiiiiiiiiiiiiiiiiiii'],\n",
              " ['iiiiiiiiiiiiiiiiiiiiiiiiiiiiii',\n",
              "  'iiiiiiiiiiiiiiiiiiiiiiiiiiiiii',\n",
              "  'iiiiiiiiiiiiiiiiiiiiiiiiiiiiii'],\n",
              " ['iiiiiiiiiiiiiiiiiiiiiiiiiiiiii',\n",
              "  'iiiiiiiiiiiiiiiiiiiiiiiiiiiiii',\n",
              "  'iiiiiiiiiiiiiiiiiiiiiiiiiiiiii'],\n",
              " ['iiiiiiiiiiiiiiiiiiiiiiiiiiiiii',\n",
              "  'iiiiiiiiiiiiiiiiiiiiiiiiiiiiii',\n",
              "  'iiiiiiiiiiiiiiiiiiiiiiiiiiiiii'],\n",
              " ['iiiiiiiiiiiiiiiiiiiiiiiiiiiiii',\n",
              "  'iiiiiiiiiiiiiiiiiiiiiiiiiiiiii',\n",
              "  'iiiiiiiiiiiiiiiiiiiiiiiiiiiiii'],\n",
              " ['iiiiiiiiiiiiiiiiiiiiiiiiiiiiii',\n",
              "  'iiiiiiiiiiiiiiiiiiiiiiiiiiiiii',\n",
              "  'iiiiiiiiiiiiiiiiiiiiiiiiiiiiii'],\n",
              " ['iiiiiiiiiiiiiiiiiiiiiiiiiiiiii',\n",
              "  'iiiiiiiiiiiiiiiiiiiiiiiiiiiiii',\n",
              "  'iiiiiiiiiiiiiiiiiiiiiiiiiiiiii',\n",
              "  'iiiiiiiiiiiiiiiiiiiiiiiiiiiiii'],\n",
              " ['iiiiiiiiiiiiiiiiiiiiiiiiiiiiii',\n",
              "  'iiiiiiiiiiiiiiiiiiiiiiiiiiiiii',\n",
              "  'iiiiiiiiiiiiiiiiiiiiiiiiiiiiii',\n",
              "  'iiiiiiiiiiiiiiiiiiiiiiiiiiiiii'],\n",
              " ['iiiiiiiiiiiiiiiiiiiiiiiiiiiiii',\n",
              "  'iiiiiiiiiiiiiiiiiiiiiiiiiiiiii',\n",
              "  'iiiiiiiiiiiiiiiiiiiiiiiiiiiiii',\n",
              "  'iiiiiiiiiiiiiiiiiiiiiiiiiiiiii'],\n",
              " ['iiiiiiiiiiiiiiiiiiiiiiiiiiiiii',\n",
              "  'iiiiiiiiiiiiiiiiiiiiiiiiiiiiii',\n",
              "  'iiiiiiiiiiiiiiiiiiiiiiiiiiiiii',\n",
              "  'iiiiiiiiiiiiiiiiiiiiiiiiiiiiii'],\n",
              " ['iiiiiiiiiiiiiiiiiiiiiiiiiiiiii',\n",
              "  'iiiiiiiiiiiiiiiiiiiiiiiiiiiiii',\n",
              "  'iiiiiiiiiiiiiiiiiiiiiiiiiiiiii',\n",
              "  'iiiiiiiiiiiiiiiiiiiiiiiiiiiiii'],\n",
              " ['iiiiiiiiiiiiiiiiiiiiiiiiiiiiii',\n",
              "  'iiiiiiiiiiiiiiiiiiiiiiiiiiiiii',\n",
              "  'iiiiiiiiiiiiiiiiiiiiiiiiiiiiii',\n",
              "  'iiiiiiiiiiiiiiiiiiiiiiiiiiiiii'],\n",
              " ['iiiiiiiiiiiiiiiiiiiiiiiiiiiiii',\n",
              "  'iiiiiiiiiiiiiiiiiiiiiiiiiiiiii',\n",
              "  'iiiiiiiiiiiiiiiiiiiiiiiiiiiiii',\n",
              "  'iiiiiiiiiiiiiiiiiiiiiiiiiiiiii'],\n",
              " ['iiiiiiiiiiiiiiiiiiiiiiiiiiiiii',\n",
              "  'iiiiiiiiiiiiiiiiiiiiiiiiiiiiii',\n",
              "  'iiiiiiiiiiiiiiiiiiiiiiiiiiiiii',\n",
              "  'iiiiiiiiiiiiiiiiiiiiiiiiiiiiii'],\n",
              " ['iiiiiiiiiiiiiiiiiiiiiiiiiiiiii',\n",
              "  'iiiiiiiiiiiiiiiiiiiiiiiiiiiiii',\n",
              "  'iiiiiiiiiiiiiiiiiiiiiiiiiiiiii',\n",
              "  'iiiiiiiiiiiiiiiiiiiiiiiiiiiiii'],\n",
              " ['iiiiiiiiiiiiiiiiiiiiiiiiiiiiii',\n",
              "  'iiiiiiiiiiiiiiiiiiiiiiiiiiiiii',\n",
              "  'iiiiiiiiiiiiiiiiiiiiiiiiiiiiii',\n",
              "  'iiiiiiiiiiiiiiiiiiiiiiiiiiiiii'],\n",
              " ['iiiiiiiiiiiiiiiiiiiiiiiiiiiiii',\n",
              "  'iiiiiiiiiiiiiiiiiiiiiiiiiiiiii',\n",
              "  'iiiiiiiiiiiiiiiiiiiiiiiiiiiiii',\n",
              "  'iiiiiiiiiiiiiiiiiiiiiiiiiiiiii'],\n",
              " ['iiiiiiiiiiiiiiiiiiiiiiiiiiiiii',\n",
              "  'iiiiiiiiiiiiiiiiiiiiiiiiiiiiii',\n",
              "  'iiiiiiiiiiiiiiiiiiiiiiiiiiiiii',\n",
              "  'iiiiiiiiiiiiiiiiiiiiiiiiiiiiii'],\n",
              " ['iiiiiiiiiiiiiiiiiiiiiiiiiiiiii',\n",
              "  'iiiiiiiiiiiiiiiiiiiiiiiiiiiiii',\n",
              "  'iiiiiiiiiiiiiiiiiiiiiiiiiiiiii',\n",
              "  'iiiiiiiiiiiiiiiiiiiiiiiiiiiiii'],\n",
              " ['iiiiiiiiiiiiiiiiiiiiiiiiiiiiii',\n",
              "  'iiiiiiiiiiiiiiiiiiiiiiiiiiiiii',\n",
              "  'iiiiiiiiiiiiiiiiiiiiiiiiiiiiii',\n",
              "  'iiiiiiiiiiiiiiiiiiiiiiiiiiiiii'],\n",
              " ['iiiiiiiiiiiiiiiiiiiiiiiiiiiiii',\n",
              "  'iiiiiiiiiiiiiiiiiiiiiiiiiiiiii',\n",
              "  'iiiiiiiiiiiiiiiiiiiiiiiiiiiiii',\n",
              "  'iiiiiiiiiiiiiiiiiiiiiiiiiiiiii'],\n",
              " ['iiiiiiiiiiiiiiiiiiiiiiiiiiiiii',\n",
              "  'iiiiiiiiiiiiiiiiiiiiiiiiiiiiii',\n",
              "  'iiiiiiiiiiiiiiiiiiiiiiiiiiiiii',\n",
              "  'iiiiiiiiiiiiiiiiiiiiiiiiiiiiii'],\n",
              " ['iiiiiiiiiiiiiiiiiiiiiiiiiiiiii',\n",
              "  'iiiiiiiiiiiiiiiiiiiiiiiiiiiiii',\n",
              "  'iiiiiiiiiiiiiiiiiiiiiiiiiiiiii'],\n",
              " ['iiiiiiiiiiiiiiiiiiiiiiiiiiiiii',\n",
              "  'iiiiiiiiiiiiiiiiiiiiiiiiiiiiii',\n",
              "  'iiiiiiiiiiiiiiiiiiiiiiiiiiiiii'],\n",
              " ['iiiiiiiiiiiiiiiiiiiiiiiiiiiiii',\n",
              "  'iiiiiiiiiiiiiiiiiiiiiiiiiiiiii',\n",
              "  'iiiiiiiiiiiiiiiiiiiiiiiiiiiiii'],\n",
              " ['iiiiiiiiiiiiiiiiiiiiiiiiiiiiii',\n",
              "  'iiiiiiiiiiiiiiiiiiiiiiiiiiiiii',\n",
              "  'iiiiiiiiiiiiiiiiiiiiiiiiiiiiii'],\n",
              " ['iiiiiiiiiiiiiiiiiiiiiiiiiiiiii',\n",
              "  'iiiiiiiiiiiiiiiiiiiiiiiiiiiiii',\n",
              "  'iiiiiiiiiiiiiiiiiiiiiiiiiiiiii'],\n",
              " ['iiiiiiiiiiiiiiiiiiiiiiiiiiiiii',\n",
              "  'iiiiiiiiiiiiiiiiiiiiiiiiiiiiii',\n",
              "  'iiiiiiiiiiiiiiiiiiiiiiiiiiiiii'],\n",
              " ['iiiiiiiiiiiiiiiiiiiiiiiiiiiiii',\n",
              "  'iiiiiiiiiiiiiiiiiiiiiiiiiiiiii',\n",
              "  'iiiiiiiiiiiiiiiiiiiiiiiiiiiiii'],\n",
              " ['iiiiiiiiiiiiiiiiiiiiiiiiiiiiii',\n",
              "  'iiiiiiiiiiiiiiiiiiiiiiiiiiiiii',\n",
              "  'iiiiiiiiiiiiiiiiiiiiiiiiiiiiii'],\n",
              " ['iiiiiiiiiiiiiiiiiiiiiiiiiiiiii',\n",
              "  'iiiiiiiiiiiiiiiiiiiiiiiiiiiiii',\n",
              "  'iiiiiiiiiiiiiiiiiiiiiiiiiiiiii'],\n",
              " ['iiiiiiiiiiiiiiiiiiiiiiiiiiiiii',\n",
              "  'iiiiiiiiiiiiiiiiiiiiiiiiiiiiii',\n",
              "  'iiiiiiiiiiiiiiiiiiiiiiiiiiiiii'],\n",
              " ['iiiiiiiiiiiiiiiiiiiiiiiiiiiiii',\n",
              "  'iiiiiiiiiiiiiiiiiiiiiiiiiiiiii',\n",
              "  'iiiiiiiiiiiiiiiiiiiiiiiiiiiiii'],\n",
              " ['iiiiiiiiiiiiiiiiiiiiiiiiiiiiii',\n",
              "  'iiiiiiiiiiiiiiiiiiiiiiiiiiiiii',\n",
              "  'iiiiiiiiiiiiiiiiiiiiiiiiiiiiii'],\n",
              " ['iiiiiiiiiiiiiiiiiiiiiiiiiiiiii',\n",
              "  'iiiiiiiiiiiiiiiiiiiiiiiiiiiiii',\n",
              "  'iiiiiiiiiiiiiiiiiiiiiiiiiiiiii'],\n",
              " ['iiiiiiiiiiiiiiiiiiiiiiiiiiiiii',\n",
              "  'iiiiiiiiiiiiiiiiiiiiiiiiiiiiii',\n",
              "  'iiiiiiiiiiiiiiiiiiiiiiiiiiiiii'],\n",
              " ['iiiiiiiiiiiiiiiiiiiiiiiiiiiiii',\n",
              "  'iiiiiiiiiiiiiiiiiiiiiiiiiiiiii',\n",
              "  'iiiiiiiiiiiiiiiiiiiiiiiiiiiiii'],\n",
              " ['iiiiiiiiiiiiiiiiiiiiiiiiiiiiii',\n",
              "  'iiiiiiiiiiiiiiiiiiiiiiiiiiiiii',\n",
              "  'iiiiiiiiiiiiiiiiiiiiiiiiiiiiii'],\n",
              " ['iiiiiiiiiiiiiiiiiiiiiiiiiiiiii',\n",
              "  'iiiiiiiiiiiiiiiiiiiiiiiiiiiiii',\n",
              "  'iiiiiiiiiiiiiiiiiiiiiiiiiiiiii'],\n",
              " ['iiiiiiiiiiiiiiiiiiiiiiiiiiiiii',\n",
              "  'iiiiiiiiiiiiiiiiiiiiiiiiiiiiii',\n",
              "  'iiiiiiiiiiiiiiiiiiiiiiiiiiiiii']]"
            ]
          },
          "metadata": {},
          "execution_count": 120
        }
      ]
    },
    {
      "cell_type": "code",
      "source": [
        "mod=pd.read_csv('train.tsv', sep='\\t')"
      ],
      "metadata": {
        "id": "_GGHViAcZCit"
      },
      "execution_count": 138,
      "outputs": []
    },
    {
      "cell_type": "code",
      "source": [
        "mod.head()"
      ],
      "metadata": {
        "colab": {
          "base_uri": "https://localhost:8080/",
          "height": 206
        },
        "id": "I-x2PI2d62WA",
        "outputId": "de3ea441-cc45-4ad0-8a77-172a2da4bd63"
      },
      "execution_count": 139,
      "outputs": [
        {
          "output_type": "execute_result",
          "data": {
            "text/plain": [
              "   PhraseId  SentenceId                                             Phrase  \\\n",
              "0         1           1  A series of escapades demonstrating the adage ...   \n",
              "1         2           1  A series of escapades demonstrating the adage ...   \n",
              "2         3           1                                           A series   \n",
              "3         4           1                                                  A   \n",
              "4         5           1                                             series   \n",
              "\n",
              "   Sentiment  \n",
              "0          1  \n",
              "1          2  \n",
              "2          2  \n",
              "3          2  \n",
              "4          2  "
            ],
            "text/html": [
              "\n",
              "  <div id=\"df-c8f68522-be31-47cd-bf85-8b6c1e8a2b32\">\n",
              "    <div class=\"colab-df-container\">\n",
              "      <div>\n",
              "<style scoped>\n",
              "    .dataframe tbody tr th:only-of-type {\n",
              "        vertical-align: middle;\n",
              "    }\n",
              "\n",
              "    .dataframe tbody tr th {\n",
              "        vertical-align: top;\n",
              "    }\n",
              "\n",
              "    .dataframe thead th {\n",
              "        text-align: right;\n",
              "    }\n",
              "</style>\n",
              "<table border=\"1\" class=\"dataframe\">\n",
              "  <thead>\n",
              "    <tr style=\"text-align: right;\">\n",
              "      <th></th>\n",
              "      <th>PhraseId</th>\n",
              "      <th>SentenceId</th>\n",
              "      <th>Phrase</th>\n",
              "      <th>Sentiment</th>\n",
              "    </tr>\n",
              "  </thead>\n",
              "  <tbody>\n",
              "    <tr>\n",
              "      <th>0</th>\n",
              "      <td>1</td>\n",
              "      <td>1</td>\n",
              "      <td>A series of escapades demonstrating the adage ...</td>\n",
              "      <td>1</td>\n",
              "    </tr>\n",
              "    <tr>\n",
              "      <th>1</th>\n",
              "      <td>2</td>\n",
              "      <td>1</td>\n",
              "      <td>A series of escapades demonstrating the adage ...</td>\n",
              "      <td>2</td>\n",
              "    </tr>\n",
              "    <tr>\n",
              "      <th>2</th>\n",
              "      <td>3</td>\n",
              "      <td>1</td>\n",
              "      <td>A series</td>\n",
              "      <td>2</td>\n",
              "    </tr>\n",
              "    <tr>\n",
              "      <th>3</th>\n",
              "      <td>4</td>\n",
              "      <td>1</td>\n",
              "      <td>A</td>\n",
              "      <td>2</td>\n",
              "    </tr>\n",
              "    <tr>\n",
              "      <th>4</th>\n",
              "      <td>5</td>\n",
              "      <td>1</td>\n",
              "      <td>series</td>\n",
              "      <td>2</td>\n",
              "    </tr>\n",
              "  </tbody>\n",
              "</table>\n",
              "</div>\n",
              "      <button class=\"colab-df-convert\" onclick=\"convertToInteractive('df-c8f68522-be31-47cd-bf85-8b6c1e8a2b32')\"\n",
              "              title=\"Convert this dataframe to an interactive table.\"\n",
              "              style=\"display:none;\">\n",
              "        \n",
              "  <svg xmlns=\"http://www.w3.org/2000/svg\" height=\"24px\"viewBox=\"0 0 24 24\"\n",
              "       width=\"24px\">\n",
              "    <path d=\"M0 0h24v24H0V0z\" fill=\"none\"/>\n",
              "    <path d=\"M18.56 5.44l.94 2.06.94-2.06 2.06-.94-2.06-.94-.94-2.06-.94 2.06-2.06.94zm-11 1L8.5 8.5l.94-2.06 2.06-.94-2.06-.94L8.5 2.5l-.94 2.06-2.06.94zm10 10l.94 2.06.94-2.06 2.06-.94-2.06-.94-.94-2.06-.94 2.06-2.06.94z\"/><path d=\"M17.41 7.96l-1.37-1.37c-.4-.4-.92-.59-1.43-.59-.52 0-1.04.2-1.43.59L10.3 9.45l-7.72 7.72c-.78.78-.78 2.05 0 2.83L4 21.41c.39.39.9.59 1.41.59.51 0 1.02-.2 1.41-.59l7.78-7.78 2.81-2.81c.8-.78.8-2.07 0-2.86zM5.41 20L4 18.59l7.72-7.72 1.47 1.35L5.41 20z\"/>\n",
              "  </svg>\n",
              "      </button>\n",
              "      \n",
              "  <style>\n",
              "    .colab-df-container {\n",
              "      display:flex;\n",
              "      flex-wrap:wrap;\n",
              "      gap: 12px;\n",
              "    }\n",
              "\n",
              "    .colab-df-convert {\n",
              "      background-color: #E8F0FE;\n",
              "      border: none;\n",
              "      border-radius: 50%;\n",
              "      cursor: pointer;\n",
              "      display: none;\n",
              "      fill: #1967D2;\n",
              "      height: 32px;\n",
              "      padding: 0 0 0 0;\n",
              "      width: 32px;\n",
              "    }\n",
              "\n",
              "    .colab-df-convert:hover {\n",
              "      background-color: #E2EBFA;\n",
              "      box-shadow: 0px 1px 2px rgba(60, 64, 67, 0.3), 0px 1px 3px 1px rgba(60, 64, 67, 0.15);\n",
              "      fill: #174EA6;\n",
              "    }\n",
              "\n",
              "    [theme=dark] .colab-df-convert {\n",
              "      background-color: #3B4455;\n",
              "      fill: #D2E3FC;\n",
              "    }\n",
              "\n",
              "    [theme=dark] .colab-df-convert:hover {\n",
              "      background-color: #434B5C;\n",
              "      box-shadow: 0px 1px 3px 1px rgba(0, 0, 0, 0.15);\n",
              "      filter: drop-shadow(0px 1px 2px rgba(0, 0, 0, 0.3));\n",
              "      fill: #FFFFFF;\n",
              "    }\n",
              "  </style>\n",
              "\n",
              "      <script>\n",
              "        const buttonEl =\n",
              "          document.querySelector('#df-c8f68522-be31-47cd-bf85-8b6c1e8a2b32 button.colab-df-convert');\n",
              "        buttonEl.style.display =\n",
              "          google.colab.kernel.accessAllowed ? 'block' : 'none';\n",
              "\n",
              "        async function convertToInteractive(key) {\n",
              "          const element = document.querySelector('#df-c8f68522-be31-47cd-bf85-8b6c1e8a2b32');\n",
              "          const dataTable =\n",
              "            await google.colab.kernel.invokeFunction('convertToInteractive',\n",
              "                                                     [key], {});\n",
              "          if (!dataTable) return;\n",
              "\n",
              "          const docLinkHtml = 'Like what you see? Visit the ' +\n",
              "            '<a target=\"_blank\" href=https://colab.research.google.com/notebooks/data_table.ipynb>data table notebook</a>'\n",
              "            + ' to learn more about interactive tables.';\n",
              "          element.innerHTML = '';\n",
              "          dataTable['output_type'] = 'display_data';\n",
              "          await google.colab.output.renderOutput(dataTable, element);\n",
              "          const docLink = document.createElement('div');\n",
              "          docLink.innerHTML = docLinkHtml;\n",
              "          element.appendChild(docLink);\n",
              "        }\n",
              "      </script>\n",
              "    </div>\n",
              "  </div>\n",
              "  "
            ]
          },
          "metadata": {},
          "execution_count": 139
        }
      ]
    },
    {
      "cell_type": "code",
      "source": [
        "from sklearn.feature_extraction.text import CountVectorizer\n",
        "from nltk.tokenize import RegexpTokenizer\n",
        "#tokenizer to remove unwanted elements from out data like symbols and numbers\n",
        "token = RegexpTokenizer(r'[a-zA-Z0-9]+')\n",
        "cv = CountVectorizer(lowercase=True,stop_words='english',ngram_range = (1,1),tokenizer = token.tokenize)\n",
        "text_counts= cv.fit_transform(mod['Phrase'])"
      ],
      "metadata": {
        "id": "F1Ehc7wM23Pf"
      },
      "execution_count": 141,
      "outputs": []
    },
    {
      "cell_type": "code",
      "source": [
        "from sklearn.model_selection import train_test_split\n",
        "X_train, X_test, y_train, y_test = train_test_split(\n",
        "    text_counts, mod['Sentiment'], test_size=0.3, random_state=1)"
      ],
      "metadata": {
        "id": "CkEvnPZ18M6S"
      },
      "execution_count": 142,
      "outputs": []
    },
    {
      "cell_type": "code",
      "source": [
        "from sklearn.naive_bayes import MultinomialNB\n",
        "#Import scikit-learn metrics module for accuracy calculation\n",
        "from sklearn import metrics\n",
        "# Model Generation Using Multinomial Naive Bayes\n",
        "clf = MultinomialNB().fit(X_train, y_train)\n",
        "predicted= clf.predict(X_test)\n",
        "print(\"MultinomialNB Accuracy:\",metrics.accuracy_score(y_test, predicted))"
      ],
      "metadata": {
        "colab": {
          "base_uri": "https://localhost:8080/"
        },
        "id": "NS6QUNBn856U",
        "outputId": "db001b1b-35f4-4936-fbfe-69302bf3dde1"
      },
      "execution_count": 132,
      "outputs": [
        {
          "output_type": "stream",
          "name": "stdout",
          "text": [
            "MultinomialNB Accuracy: 0.6049169122986885\n"
          ]
        }
      ]
    }
  ]
}